{
 "cells": [
  {
   "cell_type": "markdown",
   "metadata": {},
   "source": [
    "<h1><span style=\"font-size:105%; color:gray; \">Apostolos Papatheodorou   </span> \n",
    "    </h1>\n",
    "\n",
    "***\n",
    "> <span style=\"font-size:170%;font-style: italic;color:FireBrick; font-weight:700; \">\n",
    "    DSIT MSc: Deep Neural Networks </span>\n",
    "\n",
    "----"
   ]
  },
  {
   "cell_type": "markdown",
   "metadata": {},
   "source": [
    "## TextClassification Android-NLP Project"
   ]
  },
  {
   "cell_type": "markdown",
   "metadata": {},
   "source": [
    "<h1 style=\"color:red;\">  Summary </h1>\n",
    "\n",
    " <br> \n",
    " \n",
    "> <span style=\"font-size:125%;color:black; \">\n",
    "> This notebook is part of the final project for the course of deep neural network project (25/09/2020) and concerns the\n",
    "> developement of an Android app able to classify natural texts on 5 different categories [\"entertain\",\"bussiness\",       \n",
    "> \"science\" and \"medicine\" ] and finds the most significant sentences of the documents. \n",
    "\n",
    "</span>\n",
    "\n",
    "***"
   ]
  },
  {
   "cell_type": "markdown",
   "metadata": {},
   "source": [
    "## Import summary methods"
   ]
  },
  {
   "cell_type": "code",
   "execution_count": 3,
   "metadata": {},
   "outputs": [],
   "source": [
    "import sys\n",
    "sys.path.append('ML/')\n",
    "\n",
    "from ML.TextSummary import *"
   ]
  },
  {
   "cell_type": "markdown",
   "metadata": {},
   "source": [
    "## Load model"
   ]
  },
  {
   "cell_type": "code",
   "execution_count": 4,
   "metadata": {},
   "outputs": [],
   "source": [
    "import pickle\n",
    "import numpy as np\n",
    "from keras.models import load_model \n",
    "from keras.utils.np_utils import to_categorical\n",
    "from keras.preprocessing.sequence import pad_sequences"
   ]
  },
  {
   "cell_type": "code",
   "execution_count": 5,
   "metadata": {},
   "outputs": [],
   "source": [
    " # load TOkenizer\n",
    "with open('data/tokenizer.pickle', 'rb') as handle:\n",
    "    tokenizer = pickle.load(handle)\n",
    "    \n",
    "    \n",
    "# Load Models \n",
    "gru_model = load_model('saved/model_GRU_Ep8.h5')\n",
    "lstm_model = load_model('saved/model_LSTM_Ep8.h5')\n",
    "\n",
    "# Text_Categ: returns text category\n",
    "def Text_Categ(txt):\n",
    "    seq = tokenizer.texts_to_sequences([txt ])\n",
    "    padded = pad_sequences(seq, maxlen=150)\n",
    "    pred = model.predict(padded)\n",
    "    labels = ['Entertainment', 'Bussiness', 'Science/tech', 'Health']\n",
    "    print( labels[np.argmax(pred)], str(np.round(np.max(pred)*100,2))+'%')\n",
    "    print('\\tAll_predictions:',np.round(pred,3) ); \n",
    "    return  labels[np.argmax(pred)], str(np.round(np.max(pred)*100,2))+'%'"
   ]
  },
  {
   "cell_type": "code",
   "execution_count": 6,
   "metadata": {},
   "outputs": [],
   "source": [
    "model=lstm_model"
   ]
  },
  {
   "cell_type": "markdown",
   "metadata": {},
   "source": [
    "# Server"
   ]
  },
  {
   "cell_type": "code",
   "execution_count": 5,
   "metadata": {},
   "outputs": [],
   "source": [
    "import socket\n",
    "#import threading"
   ]
  },
  {
   "cell_type": "code",
   "execution_count": null,
   "metadata": {
    "scrolled": true
   },
   "outputs": [
    {
     "name": "stdout",
     "output_type": "stream",
     "text": [
      "Start Listening...\n",
      "\n",
      "client with address:  ('192.168.1.3', 50396)  is connected.\n",
      "\n",
      "Decoded Data:  Apple Inc. is an American multinational technology company headquartered in Cupertino, California, that designs, develops, and sells consumer electronics, computer software, and online services. It is considered one of the Big Tech technology companies, alongside Amazon, Google, Microsoft, and Facebook.[8][9][10]\n",
      "\n",
      "The company's hardware products include the iPhone smartphone, the iPad tablet computer, the Mac personal computer, the iPod portable media player, the Apple Watch smartwatch, the Apple TV digital media player, the AirPods wireless earbuds and the HomePod smart speaker. \n",
      "\n",
      "Text Summary\n",
      "Input-type: 'Text'\n",
      "Two many characters for sentence: The company's hardware products include the iPhone smartphone, the iPad tablet computer, the Mac personal computer, the iPod portable media player, the Apple Watch smartwatch, the Apple TV digital media player, the AirPods wireless earbuds and the HomePod smart speaker.\n",
      "\n",
      "\n",
      "25% of text: 2/2\n",
      "Total score: 18.0 dict_values([13.0, 5.0])\n",
      "\n",
      "\n",
      "Text Classification\n",
      "Science/tech 99.91%\n",
      "\tAll_predictions: [[0.    0.001 0.999 0.   ]]\n",
      "\n",
      "Reply: Science/tech \n",
      "99.91% \n",
      " Apple Inc. is an American multinational technology company headquartered in Cupertino, California, that designs, develops, and sells consumer electronics, computer software, and online services. It is considered one of the Big Tech technology companies, alongside Amazon, Google, Microsoft, and Facebook.\n",
      "\n",
      "---------------------------------------------------------------------------------\n",
      "client with address:  ('192.168.1.3', 50398)  is connected.\n",
      "\n",
      "Decoded Data:  Apple Inc. is an American multinational technology company headquartered in Cupertino, California, that designs, develops, and sells consumer electronics, computer software, and online services. It is considered one of the Big Tech technology companies, alongside Amazon, Google, Microsoft, and Facebook.[8][9][10]\n",
      "\n",
      "The company's hardware products include the iPhone smartphone, the iPad tablet computer, the Mac personal computer, the iPod portable media player, the Apple Watch smartwatch, the Apple TV digital media player, the AirPods wireless earbuds and the HomePod smart speaker. \n",
      "\n",
      "Text Summary\n",
      "Input-type: 'Text'\n",
      "Two many characters for sentence: The company's hardware products include the iPhone smartphone, the iPad tablet computer, the Mac personal computer, the iPod portable media player, the Apple Watch smartwatch, the Apple TV digital media player, the AirPods wireless earbuds and the HomePod smart speaker.\n",
      "\n",
      "\n",
      "25% of text: 2/2\n",
      "Total score: 18.0 dict_values([13.0, 5.0])\n",
      "\n",
      "\n",
      "Text Classification\n",
      "Science/tech 99.91%\n",
      "\tAll_predictions: [[0.    0.001 0.999 0.   ]]\n",
      "\n",
      "Reply: Science/tech \n",
      "99.91% \n",
      " Apple Inc. is an American multinational technology company headquartered in Cupertino, California, that designs, develops, and sells consumer electronics, computer software, and online services. It is considered one of the Big Tech technology companies, alongside Amazon, Google, Microsoft, and Facebook.\n",
      "\n",
      "---------------------------------------------------------------------------------\n",
      "client with address:  ('192.168.1.3', 50400)  is connected.\n",
      "\n",
      "Decoded Data:  Apple Inc. is an American multinational technology company headquartered in Cupertino, California, that designs, develops, and sells consumer electronics, computer software, and online services. It is considered one of the Big Tech technology companies, alongside Amazon, Google, Microsoft, and Facebook.[8][9][10]\n",
      "\n",
      "The company's hardware products include the iPhone smartphone, the iPad tablet computer, the Mac personal computer, the iPod portable media player, the Apple Watch smartwatch, the Apple TV digital media player, the AirPods wireless earbuds and the HomePod smart speaker. \n",
      "\n",
      "Text Summary\n",
      "Input-type: 'Text'\n",
      "Two many characters for sentence: The company's hardware products include the iPhone smartphone, the iPad tablet computer, the Mac personal computer, the iPod portable media player, the Apple Watch smartwatch, the Apple TV digital media player, the AirPods wireless earbuds and the HomePod smart speaker.\n",
      "\n",
      "\n",
      "25% of text: 2/2\n",
      "Total score: 18.0 dict_values([13.0, 5.0])\n",
      "\n",
      "\n",
      "Text Classification\n",
      "Science/tech 99.91%\n",
      "\tAll_predictions: [[0.    0.001 0.999 0.   ]]\n",
      "\n",
      "Reply: Science/tech \n",
      "99.91% \n",
      " Apple Inc. is an American multinational technology company headquartered in Cupertino, California, that designs, develops, and sells consumer electronics, computer software, and online services. It is considered one of the Big Tech technology companies, alongside Amazon, Google, Microsoft, and Facebook.\n",
      "\n",
      "---------------------------------------------------------------------------------\n",
      "client with address:  ('192.168.1.3', 50419)  is connected.\n",
      "\n",
      "Decoded Data:  The COVID‑19 pandemic, also known as the coronavirus pandemic, is an ongoing pandemic of coronavirus disease 2019 (COVID‑19) caused by severe acute respiratory syndrome coronavirus 2 (SARS‑CoV‑2).[1] The disease was first identified in December 2019 in Wuhan, China.[4] The World Health Organization declared the outbreak a Public Health Emergency of International Concern on 30 January 2020 and a pandemic on 11 March 2020. As of 23 September 2020, more than 31.7 million cases have been reported in 188 countries and territories, resulting in more than 973,000 deaths; more than 21.8 million people have recovered.[5]\n",
      "\n",
      "The disease spreads between people most often when they are physically close.\n",
      "\n",
      "Text Summary\n",
      "Input-type: 'Text'\n",
      "\n",
      "25% of text: 3/3\n",
      "Total score: 37.0 dict_values([15.0, 3.0, 3.0, 10.0, 6.0])\n",
      "\n",
      "\n",
      "Text Classification\n",
      "Health 99.9%\n",
      "\tAll_predictions: [[0.    0.001 0.    0.999]]\n",
      "\n",
      "Reply: Health \n",
      "99.9% \n",
      " The COVID‑19 pandemic, also known as the coronavirus pandemic, is an ongoing pandemic of coronavirus disease 2019 (COVID‑19) caused by severe acute respiratory syndrome coronavirus 2 (SARS‑CoV‑2). As of 23 September 2020, more than 31.7 million cases have been reported in 188 countries and territories, resulting in more than 973,000 deaths; more than 21.8 million people have recovered. The disease spreads between people most often when they are physically close.\n",
      "\n",
      "---------------------------------------------------------------------------------\n",
      "client with address:  ('192.168.1.3', 50431)  is connected.\n",
      "\n",
      "Decoded Data:  2001: A Space Odyssey is a 1968 British-American epic science fiction film produced and directed by Stanley Kubrick. The screenplay was written by Kubrick and Arthur C. Clarke, and was inspired by Clarke's 1951 short story \"The Sentinel\" and other short stories by Clarke. A novel released after the film's premiere was in part written concurrently with the screenplay. The film, which follows a voyage to Jupiter with the sentient computer HAL after the discovery of an alien monolith affecting human evolution, deals with themes of existentialism, human evolution, technology, artificial intelligence, and the possibility of extraterrestrial life.\n",
      "\n",
      "The film is noted for its scientifically accurate depiction of space flight, pioneering special effects, and ambiguous imagery.\n",
      "\n",
      "Text Summary\n",
      "Input-type: 'Text'\n",
      "\n",
      "25% of text: 2/2\n",
      "Total score: 56.0 dict_values([7.0, 7.0, 8.0, 22.0, 12.0])\n",
      "\n",
      "\n",
      "Text Classification\n",
      "Entertainment 96.05%\n",
      "\tAll_predictions: [[0.96  0.003 0.033 0.004]]\n",
      "\n",
      "Reply: Entertainment \n",
      "96.05% \n",
      " The film, which follows a voyage to Jupiter with the sentient computer HAL after the discovery of an alien monolith affecting human evolution, deals with themes of existentialism, human evolution, technology, artificial intelligence, and the possibility of extraterrestrial life. The film is noted for its scientifically accurate depiction of space flight, pioneering special effects, and ambiguous imagery.\n",
      "\n",
      "---------------------------------------------------------------------------------\n"
     ]
    }
   ],
   "source": [
    "def recv(): \n",
    "    counter=0 # how many request the server has received \n",
    "    Number_of_Requests=10 # Total numver of clients that will be served.\n",
    "\n",
    "    try:\n",
    "        client.bind((host, port))\n",
    "    finally:\n",
    "        pass\n",
    "    client.listen(10) # how many connections can it receive at one time\n",
    "    print (\"Start Listening...\\n\")\n",
    "    \n",
    "    while counter<Number_of_Requests:\n",
    "        conn, addr = client.accept()\n",
    "        print (\"client with address: \", addr, \" is connected.\"); print()\n",
    "        data = conn.recv(1024).decode('utf-8'); \n",
    "        print (\"Decoded Data: \", data);print(); \n",
    "        #conn.sendall(bytes('Take your reply Text_Sum', 'utf-8'))\n",
    "        \n",
    "        # Summary of the text\n",
    "        print('Text Summary')\n",
    "        Text_Sum, Scores=TxtSummary(data)\n",
    "        Text_Summary=DataProcess(Text_Sum, Scores); print('\\n')\n",
    "        \n",
    "        # Class prediction\n",
    "        print('Text Classification')\n",
    "        categ, prob=Text_Categ(data)\n",
    "        prediction=categ+\" \\n\"+prob+' '; print()\n",
    "        \n",
    "        # Reply to the client's request\n",
    "        reply = prediction +'\\n'+ Text_Summary\n",
    "        conn.sendall(bytes(reply, 'utf-8'))\n",
    "        conn.close()\n",
    "        print(\"Reply:\", reply)\n",
    "        print(); counter=counter+1\n",
    "        print (\"---------------------------------------------------------------------------------\")\n",
    "            \n",
    "    client.close()\n",
    "\n",
    "host, port = \"192.168.1.3\", 8080\n",
    "client = socket.socket(socket.AF_INET, socket.SOCK_STREAM)\n",
    "recv()"
   ]
  },
  {
   "cell_type": "code",
   "execution_count": null,
   "metadata": {},
   "outputs": [],
   "source": []
  },
  {
   "cell_type": "markdown",
   "metadata": {},
   "source": [
    "# Toy-examples\n"
   ]
  },
  {
   "cell_type": "code",
   "execution_count": 47,
   "metadata": {},
   "outputs": [],
   "source": [
    "#politics/buisiness\n",
    "text1='European authorities have authorized handing 7.5 billion euros, or $8.4 billion, in bailout aid to Greece, which will allow the country to keep paying its bills in the coming months. It has also won additional pledges of debt relief, helping to ease concerns about another crisis in Greece at a time when Europe is dealing with an influx of migrants and a continuing terrorist threat. Debt relief has been a contentious issue for creditors, with the International Monetary Fund and Germany lining up on opposite sides. The I.M.F. has insisted that Greece cannot meet its budget goals without easing its debts, while Germany remains skeptical of cutting Athens more slack.'\n",
    "\n",
    "#entertainment\n",
    "text2='V for Vendetta is a 2005 dystopian political action film directed by James McTeigue and written by the Wachowskis,[b] based on the 1988 DC/Vertigo Comics limited series of the same name by Alan Moore and David Lloyd. Set in an alternative future where a Nordic supremacist and neo-fascist totalitarian regime has subjugated the United Kingdom, the film centers on V (portrayed by Hugo Weaving), an anarchist and masked freedom fighter who attempts to ignite a revolution through elaborate terrorist acts, while Natalie Portman plays Evey, a young, working-class woman caught up in Vs mission and Stephen Rea portrays a detective leading a desperate quest to stop V. Produced by Silver Pictures, Virtual Studios and Anarchos Productions Inc., V for Vendetta was originally scheduled for release by Warner Bros. Pictures on 4 November 2005 (a day before the 400th Guy Fawkes Night), but was delayed; it instead opened in the United States on 17 March 2006 to mostly positive reviews from critics and was a box office success.'\n",
    "\n",
    "#science/tech\n",
    "text3='The European Organization for Nuclear Research (French: Organisation européenne pour la recherche nucléaire), known as CERN (/sɜːrn/; French pronunciation: ​[sɛʁn]; derived from the name Conseil européen pour la recherche nucléaire), is a European research organization that operates the largest particle physics laboratory in the world. Established in 1954, the organization is based in a northwest suburb of Geneva on the Franco–Swiss border and has 23 member states.[3] Israel is the only non-European country granted full membership.[4] CERN is an official United Nations Observer. The acronym CERN is also used to refer to the laboratory, which in 2016 had 2,500 scientific, technical, and administrative staff members, and hosted about 12,000 users. In the same year, CERN generated 49 petabytes of data. CERN s main function is to provide the particle accelerators and other infrastructure needed for high-energy physics research – as a result, numerous experiments have been constructed at CERN through international collaborations. The main site at Meyrin hosts a large computing facility, which is primarily used to store and analyse data from experiments, as well as simulate events. Researchers need remote access to these facilities, so the lab has historically been a major wide area network hub. CERN is also the birthplace of the World Wide Web.'\n",
    "\n",
    "#medicine\n",
    "text4=\"Cancer is a group of diseases involving abnormal cell growth with the potential to invade or spread to other parts of the body.[2][8] These contrast with benign tumors, which do not spread.[8] Possible signs and symptoms include a lump, abnormal bleeding, prolonged cough, unexplained weight loss, and a change in bowel movements.[1] While these symptoms may indicate cancer, they can also have other causes.[1] Over 100 types of cancers affect humans.[8] Tobacco use is the cause of about 22% of cancer deaths.[2] Another 10% are due to obesity, poor diet, lack of physical activity or excessive drinking of alcohol.[2][9][10] Other factors include certain infections, exposure to ionizing radiation and environmental pollutants.[3] In the developing world, 15% of cancers are due to infections such as Helicobacter pylori, hepatitis B, hepatitis C, human papillomavirus infection, Epstein–Barr virus and human immunodeficiency virus (HIV).[2] These factors act, at least partly, by changing the genes of a cell.[11] Typically, many genetic changes are required before cancer develops.[11] Approximately 5–10% of cancers are due to inherited genetic defects from a person's parents.[12] Cancer can be detected by certain signs and symptoms or screening tests.[2] It is then typically further investigated by medical imaging and confirmed by biopsy.\"\n",
    "\n",
    "texts=[text1, text2, text3, text4]\n",
    "tags=[\"Buisiness/Politics\", \"Entertainment\" , \"Science/Tech\", \"Medicine\"]"
   ]
  },
  {
   "cell_type": "code",
   "execution_count": 48,
   "metadata": {},
   "outputs": [
    {
     "name": "stdout",
     "output_type": "stream",
     "text": [
      "Bussiness 99.45%\n",
      "\tAll_predictions: [[0.001 0.994 0.003 0.001]]\n",
      "\tReal Categ: Buisiness/Politics\n",
      "\n",
      "Entertainment 95.98%\n",
      "\tAll_predictions: [[0.96  0.012 0.024 0.005]]\n",
      "\tReal Categ: Entertainment\n",
      "\n",
      "Science/tech 99.61%\n",
      "\tAll_predictions: [[0.001 0.003 0.996 0.001]]\n",
      "\tReal Categ: Science/Tech\n",
      "\n",
      "Health 99.94%\n",
      "\tAll_predictions: [[0.    0.    0.    0.999]]\n",
      "\tReal Categ: Medicine\n",
      "\n"
     ]
    }
   ],
   "source": [
    "for i  in range(len(texts)):\n",
    "    categ, prob=Text_Categ(texts[i])\n",
    "    print(\"\\tReal Categ:\", tags[i])\n",
    "    print()"
   ]
  },
  {
   "cell_type": "code",
   "execution_count": 51,
   "metadata": {},
   "outputs": [
    {
     "name": "stdout",
     "output_type": "stream",
     "text": [
      "*********************************   Text: 1   *********************************\n",
      "\n",
      "Text European authorities have authorized handing 7.5 billion euros, or $8.4 billion, in bailout aid to Greece, which will allow the country to keep paying its bills in the coming months. It has also won additional pledges of debt relief, helping to ease concerns about another crisis in Greece at a time when Europe is dealing with an influx of migrants and a continuing terrorist threat. Debt relief has been a contentious issue for creditors, with the International Monetary Fund and Germany lining up on opposite sides. The I.M.F. has insisted that Greece cannot meet its budget goals without easing its debts, while Germany remains skeptical of cutting Athens more slack.\n",
      "Input-type: 'Text'\n",
      "\n",
      "25% of text: 3/3\n",
      "Total score: 51.0 dict_values([15.0, 17.0, 8.0, 11.0])\n",
      "\n",
      "Summary-based-sentence-Rank:   It has also won additional pledges of debt relief, helping to ease concerns about another crisis in Greece at a time when Europe is dealing with an influx of migrants and a continuing terrorist threat. European authorities have authorized handing 7.5 billion euros, or $8.4 billion, in bailout aid to Greece, which will allow the country to keep paying its bills in the coming months. has insisted that Greece cannot meet its budget goals without easing its debts, while Germany remains skeptical of cutting Athens more slack.\n",
      "\n",
      "\n",
      "Summary-based-sentece-Order:    European authorities have authorized handing 7.5 billion euros, or $8.4 billion, in bailout aid to Greece, which will allow the country to keep paying its bills in the coming months. It has also won additional pledges of debt relief, helping to ease concerns about another crisis in Greece at a time when Europe is dealing with an influx of migrants and a continuing terrorist threat. has insisted that Greece cannot meet its budget goals without easing its debts, while Germany remains skeptical of cutting Athens more slack.\n",
      "----------------------------------------------------------------------------------\n",
      "\n",
      "*********************************   Text: 2   *********************************\n",
      "\n",
      "Text V for Vendetta is a 2005 dystopian political action film directed by James McTeigue and written by the Wachowskis,[b] based on the 1988 DC/Vertigo Comics limited series of the same name by Alan Moore and David Lloyd. Set in an alternative future where a Nordic supremacist and neo-fascist totalitarian regime has subjugated the United Kingdom, the film centers on V (portrayed by Hugo Weaving), an anarchist and masked freedom fighter who attempts to ignite a revolution through elaborate terrorist acts, while Natalie Portman plays Evey, a young, working-class woman caught up in Vs mission and Stephen Rea portrays a detective leading a desperate quest to stop V. Produced by Silver Pictures, Virtual Studios and Anarchos Productions Inc., V for Vendetta was originally scheduled for release by Warner Bros. Pictures on 4 November 2005 (a day before the 400th Guy Fawkes Night), but was delayed; it instead opened in the United States on 17 March 2006 to mostly positive reviews from critics and was a box office success.\n",
      "Input-type: 'Text'\n",
      "Two many characters for sentence: Set in an alternative future where a Nordic supremacist and neo-fascist totalitarian regime has subjugated the United Kingdom, the film centers on V (portrayed by Hugo Weaving), an anarchist and masked freedom fighter who attempts to ignite a revolution through elaborate terrorist acts, while Natalie Portman plays Evey, a young, working-class woman caught up in Vs mission and Stephen Rea portrays a detective leading a desperate quest to stop V. Produced by Silver Pictures, Virtual Studios and Anarchos Productions Inc., V for Vendetta was originally scheduled for release by Warner Bros. Pictures on 4 November 2005 (a day before the 400th Guy Fawkes Night), but was delayed; it instead opened in the United States on 17 March 2006 to mostly positive reviews from critics and was a box office success.\n",
      "\n",
      "\n",
      "25% of text: 2/2\n",
      "Total score: 11.0 dict_values([11.0])\n",
      "\n",
      "Summary-based-sentence-Rank:   V for Vendetta is a 2005 dystopian political action film directed by James McTeigue and written by the Wachowskis,[b] based on the 1988 DC/Vertigo Comics limited series of the same name by Alan Moore and David Lloyd.\n",
      "\n",
      "\n",
      "Summary-based-sentece-Order:    V for Vendetta is a 2005 dystopian political action film directed by James McTeigue and written by the Wachowskis,[b] based on the 1988 DC/Vertigo Comics limited series of the same name by Alan Moore and David Lloyd.\n",
      "----------------------------------------------------------------------------------\n",
      "\n",
      "*********************************   Text: 3   *********************************\n",
      "\n",
      "Text The European Organization for Nuclear Research (French: Organisation européenne pour la recherche nucléaire), known as CERN (/sɜːrn/; French pronunciation: ​[sɛʁn]; derived from the name Conseil européen pour la recherche nucléaire), is a European research organization that operates the largest particle physics laboratory in the world. Established in 1954, the organization is based in a northwest suburb of Geneva on the Franco–Swiss border and has 23 member states.[3] Israel is the only non-European country granted full membership.[4] CERN is an official United Nations Observer. The acronym CERN is also used to refer to the laboratory, which in 2016 had 2,500 scientific, technical, and administrative staff members, and hosted about 12,000 users. In the same year, CERN generated 49 petabytes of data. CERN s main function is to provide the particle accelerators and other infrastructure needed for high-energy physics research – as a result, numerous experiments have been constructed at CERN through international collaborations. The main site at Meyrin hosts a large computing facility, which is primarily used to store and analyse data from experiments, as well as simulate events. Researchers need remote access to these facilities, so the lab has historically been a major wide area network hub. CERN is also the birthplace of the World Wide Web.\n",
      "Input-type: 'Text'\n",
      "Two many characters for sentence: The European Organization for Nuclear Research (French: Organisation européenne pour la recherche nucléaire), known as CERN (/sɜːrn/; French pronunciation: ​[sɛʁn]; derived from the name Conseil européen pour la recherche nucléaire), is a European research organization that operates the largest particle physics laboratory in the world.\n",
      "\n",
      "\n",
      "25% of text: 3/3\n",
      "Total score: 73.0 dict_values([7.0, 4.0, 1.0, 12.0, 4.0, 15.0, 15.0, 11.0, 4.0])\n",
      "\n",
      "Summary-based-sentence-Rank:   CERN s main function is to provide the particle accelerators and other infrastructure needed for high-energy physics research – as a result, numerous experiments have been constructed at CERN through international collaborations. The main site at Meyrin hosts a large computing facility, which is primarily used to store and analyse data from experiments, as well as simulate events. The acronym CERN is also used to refer to the laboratory, which in 2016 had 2,500 scientific, technical, and administrative staff members, and hosted about 12,000 users.\n",
      "\n",
      "\n",
      "Summary-based-sentece-Order:    The acronym CERN is also used to refer to the laboratory, which in 2016 had 2,500 scientific, technical, and administrative staff members, and hosted about 12,000 users. CERN s main function is to provide the particle accelerators and other infrastructure needed for high-energy physics research – as a result, numerous experiments have been constructed at CERN through international collaborations. The main site at Meyrin hosts a large computing facility, which is primarily used to store and analyse data from experiments, as well as simulate events.\n",
      "----------------------------------------------------------------------------------\n",
      "\n",
      "*********************************   Text: 4   *********************************\n",
      "\n",
      "Text Cancer is a group of diseases involving abnormal cell growth with the potential to invade or spread to other parts of the body.[2][8] These contrast with benign tumors, which do not spread.[8] Possible signs and symptoms include a lump, abnormal bleeding, prolonged cough, unexplained weight loss, and a change in bowel movements.[1] While these symptoms may indicate cancer, they can also have other causes.[1] Over 100 types of cancers affect humans.[8] Tobacco use is the cause of about 22% of cancer deaths.[2] Another 10% are due to obesity, poor diet, lack of physical activity or excessive drinking of alcohol.[2][9][10] Other factors include certain infections, exposure to ionizing radiation and environmental pollutants.[3] In the developing world, 15% of cancers are due to infections such as Helicobacter pylori, hepatitis B, hepatitis C, human papillomavirus infection, Epstein–Barr virus and human immunodeficiency virus (HIV).[2] These factors act, at least partly, by changing the genes of a cell.[11] Typically, many genetic changes are required before cancer develops.[11] Approximately 5–10% of cancers are due to inherited genetic defects from a person's parents.[12] Cancer can be detected by certain signs and symptoms or screening tests.[2] It is then typically further investigated by medical imaging and confirmed by biopsy.\n",
      "Input-type: 'Text'\n",
      "\n",
      "25% of text: 4/4\n",
      "Total score: 112.0 dict_values([12.0, 4.0, 14.0, 6.0, 4.0, 4.0, 10.0, 9.0, 15.0, 7.0, 7.0, 7.0, 7.0, 6.0])\n",
      "\n",
      "Summary-based-sentence-Rank:   In the developing world, 15% of cancers are due to infections such as Helicobacter pylori, hepatitis B, hepatitis C, human papillomavirus infection, Epstein–Barr virus and human immunodeficiency virus (HIV). Possible signs and symptoms include a lump, abnormal bleeding, prolonged cough, unexplained weight loss, and a change in bowel movements. Cancer is a group of diseases involving abnormal cell growth with the potential to invade or spread to other parts of the body. Another 10% are due to obesity, poor diet, lack of physical activity or excessive drinking of alcohol.\n",
      "\n",
      "\n",
      "Summary-based-sentece-Order:    Cancer is a group of diseases involving abnormal cell growth with the potential to invade or spread to other parts of the body. Possible signs and symptoms include a lump, abnormal bleeding, prolonged cough, unexplained weight loss, and a change in bowel movements. Another 10% are due to obesity, poor diet, lack of physical activity or excessive drinking of alcohol. In the developing world, 15% of cancers are due to infections such as Helicobacter pylori, hepatitis B, hepatitis C, human papillomavirus infection, Epstein–Barr virus and human immunodeficiency virus (HIV).\n",
      "----------------------------------------------------------------------------------\n",
      "\n"
     ]
    }
   ],
   "source": [
    "for i  in range(len(texts)):\n",
    "    print('*********************************   Text:',i+1,'  *********************************\\n')\n",
    "    print(\"Text\", texts[i])\n",
    "    Sums, Scores=TxtSummary(texts[i])\n",
    "    send=DataProcess(Sums, Scores) \n",
    "    print(\"\\nSummary-based-sentence-Rank:  \", Sums)\n",
    "    print()\n",
    "    print(\"\\nSummary-based-sentece-Order:  \",send)\n",
    "    print('----------------------------------------------------------------------------------\\n')"
   ]
  },
  {
   "cell_type": "code",
   "execution_count": null,
   "metadata": {},
   "outputs": [],
   "source": []
  }
 ],
 "metadata": {
  "kernelspec": {
   "display_name": "Python 3",
   "language": "python",
   "name": "python3"
  },
  "language_info": {
   "codemirror_mode": {
    "name": "ipython",
    "version": 3
   },
   "file_extension": ".py",
   "mimetype": "text/x-python",
   "name": "python",
   "nbconvert_exporter": "python",
   "pygments_lexer": "ipython3",
   "version": "3.8.3"
  }
 },
 "nbformat": 4,
 "nbformat_minor": 4
}
